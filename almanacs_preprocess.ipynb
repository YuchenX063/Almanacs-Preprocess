{
 "cells": [
  {
   "cell_type": "code",
   "execution_count": 1,
   "metadata": {
    "ExecuteTime": {
     "end_time": "2025-08-06T20:51:00.086193Z",
     "start_time": "2025-08-06T20:50:59.034218Z"
    }
   },
   "outputs": [],
   "source": [
    "import os\n",
    "import pandas as pd\n",
    "from pydrive2.auth import GoogleAuth\n",
    "from pydrive2.drive import GoogleDrive\n",
    "from io import StringIO"
   ]
  },
  {
   "cell_type": "code",
   "execution_count": null,
   "metadata": {
    "ExecuteTime": {
     "end_time": "2025-08-06T20:51:00.118294Z",
     "start_time": "2025-08-06T20:51:00.089196Z"
    }
   },
   "outputs": [],
   "source": [
    "gauth = GoogleAuth()\n",
    "gauth.settings['client_config_backend'] = 'service'\n",
    "gauth.settings['service_config'] = {\n",
    "    'client_json_file_path': 'service_account.json',\n",
    "    'client_user_email': 'sheet-accessor-bot@sheet-accessor-468220.iam.gserviceaccount.com'\n",
    "}\n",
    "gauth.ServiceAuth()\n",
    "drive = GoogleDrive(gauth)"
   ]
  },
  {
   "cell_type": "code",
   "execution_count": 3,
   "metadata": {
    "ExecuteTime": {
     "end_time": "2025-08-06T20:51:00.134266Z",
     "start_time": "2025-08-06T20:51:00.122266Z"
    }
   },
   "outputs": [],
   "source": [
    "folder_ids = [\n",
    "    '1kg-I2DYN4HsQ-jIFhym7nmvkubc9GyFD',\n",
    "    '1tUormlmSj0P8342ZVdkFHwK5Zzlz4pd_',\n",
    "    '1uNGRy3a3EBJjnjlppZ29cLqlvTxDijG7',\n",
    "    '1icyrHfA04vVziPAf4B8cL8x6pyltLl4m',\n",
    "    '1W4k8-Y1GWLJv74j8mXCKJPxaIngui4xP',\n",
    "    '1LEYANh7PIV9BIC4GpmWByWR4mi2dNtih',\n",
    "    '1FbOjmMtKKbgpDou-eyVbhb162RQJMNy-',\n",
    "    '10-NQy1b9lXuXnm5X_FuzYpetI_1PgjOQ',\n",
    "    '1IYkTrGI07fTcjaggY_12V72syNATNSIp',\n",
    "    '1gi-k4cgD-XR_AiaSq6J9OPf3OWwkIPCt',\n",
    "    '145ECofup4M7ZnA1dUF5_pDZN3OWEK1Yb',\n",
    "    '1vsjVWIWOAH1xN8RPvhgmI6ky1vA7CfcJ'\n",
    "]"
   ]
  },
  {
   "cell_type": "code",
   "execution_count": 4,
   "metadata": {
    "ExecuteTime": {
     "end_time": "2025-08-06T20:51:00.150294Z",
     "start_time": "2025-08-06T20:51:00.139196Z"
    }
   },
   "outputs": [],
   "source": [
    "os.makedirs('extracted', exist_ok = True)\n",
    "os.makedirs('processed', exist_ok = True)"
   ]
  },
  {
   "cell_type": "code",
   "execution_count": null,
   "metadata": {
    "ExecuteTime": {
     "end_time": "2025-08-06T20:56:08.411352Z",
     "start_time": "2025-08-06T20:56:08.391360Z"
    }
   },
   "outputs": [],
   "source": [
    "def preprocess(file_path):\n",
    "    df = pd.read_csv(file_path, encoding='utf-8-sig')\n",
    "\n",
    "    df.columns = df.columns.str.strip()\n",
    "    df = df.apply(lambda col: col.map(lambda x: x.strip() if isinstance(x, str) else x))\n",
    "    df = df.dropna(how='all')\n",
    "\n",
    "    if df.columns[0] != 'instID':\n",
    "        df.rename(columns={df.columns[0]: 'instID'}, inplace=True)\n",
    "\n",
    "    if 'year' not in df.columns or df['year'].isna().all():\n",
    "        file_name = os.path.basename(file_path)\n",
    "        inferred_year = ''.join(filter(str.isdigit, file_name))\n",
    "        df['year'] = inferred_year if inferred_year else ''\n",
    "    else:\n",
    "        year = df['year'].dropna().iloc[0]\n",
    "        df['year'] = year\n",
    "\n",
    "    expected_columns = [\n",
    "        'instID', 'type', 'instName', 'language', 'instNote', 'placeName', 'region',\n",
    "        'county_orig', 'county_reg', 'city_orig', 'city_reg', 'state_orig', 'state_reg',\n",
    "        'latitude', 'longitude', 'attendingInstID', 'attendingPersID', 'attendingChurch',\n",
    "        'attendingChurchFrequency', 'attendingChurchNote', 'persID', 'persTitle', 'persName',\n",
    "        'persSuffix', 'persRole', 'persNote', 'memberType', 'member', 'affiliated',\n",
    "        'year', 'diocese', 'order'\n",
    "    ]\n",
    "    for col in expected_columns:\n",
    "        if col not in df.columns:\n",
    "            df[col] = ''\n",
    "\n",
    "    df = df.apply(lambda col: col.map(lambda x: x.encode('utf-8-sig', errors='ignore').decode('utf-8') if isinstance(x, str) else x))\n",
    "\n",
    "    df.loc[(df['instID'].notna()) & (df['instName'].isna()), 'instName'] = 'not recorded'\n",
    "\n",
    "    primary_cols = ['instID', 'type', 'instName', 'latitude', 'longitude']\n",
    "    df[primary_cols] = df[primary_cols].ffill()\n",
    "    \n",
    "    df.rename(columns={'type':'church_type'}, inplace = True)\n",
    "    \n",
    "    group_cols = [\n",
    "        'language', 'instNote', 'placeName', 'region', 'county_orig', 'county_reg',\n",
    "        'city_orig', 'state_orig', 'city_reg', 'memberType', 'member', 'affiliated'\n",
    "    ]\n",
    "    df[group_cols] = df.groupby('instID')[group_cols].ffill()\n",
    "\n",
    "    df['language'] = df['language'].fillna('English')\n",
    "\n",
    "    if df['year'].notna().any():\n",
    "        year = df['year'].dropna().iloc[0]\n",
    "        df['year'] = year\n",
    "    \n",
    "    file_name = os.path.basename(file_path)\n",
    "    place_name = file_name.split('1')[0]\n",
    "\n",
    "    if 'diocese' in df.columns and df['diocese'].notna().any():\n",
    "        diocese = df['diocese'].dropna().iloc[0]\n",
    "    else:\n",
    "        diocese = None\n",
    "\n",
    "    df['diocese_orig'] = diocese if diocese else place_name\n",
    "    df['diocese_reg'] = place_name\n",
    "\n",
    "    df.drop(columns=['diocese'], inplace=True, errors='ignore')\n",
    "    df.rename(columns={'diocese_orig': 'diocese'}, inplace=True)\n",
    "\n",
    "    return df"
   ]
  },
  {
   "cell_type": "code",
   "execution_count": 8,
   "metadata": {
    "ExecuteTime": {
     "end_time": "2025-08-06T20:57:27.895339Z",
     "start_time": "2025-08-06T20:56:09.581417Z"
    }
   },
   "outputs": [],
   "source": [
    "for folder_id in folder_ids:\n",
    "    file_list = drive.ListFile({\n",
    "        'q': f\"'{folder_id}' in parents and trashed=false and mimeType='application/vnd.google-apps.spreadsheet'\"\n",
    "    }).GetList()\n",
    "    for file in file_list:\n",
    "        title = file['title']\n",
    "        if ' ' in title:\n",
    "            continue\n",
    "        content = file.GetContentString(mimetype='text/csv')\n",
    "        try: \n",
    "            file_name = title + '.csv'\n",
    "            file_path = os.path.join(\"extracted\", file_name)\n",
    "\n",
    "            # Save raw CSV\n",
    "            with open(file_path, 'w', encoding='utf-8-sig') as f:\n",
    "                f.write(content)\n",
    "                \n",
    "            df_clean = preprocess(file_path)\n",
    "            output_path = os.path.join(\"processed\", file_name)\n",
    "            df_clean.to_csv(output_path, index=False, encoding='utf-8-sig')\n",
    "            print(title)\n",
    "        except Exception as e:\n",
    "            print(f\"Failed to export {title}: {e}\")"
   ]
  },
  {
   "cell_type": "code",
   "execution_count": null,
   "metadata": {},
   "outputs": [],
   "source": []
  },
  {
   "cell_type": "code",
   "execution_count": null,
   "metadata": {},
   "outputs": [],
   "source": []
  },
  {
   "cell_type": "code",
   "execution_count": null,
   "metadata": {},
   "outputs": [],
   "source": []
  },
  {
   "cell_type": "code",
   "execution_count": null,
   "metadata": {},
   "outputs": [],
   "source": []
  },
  {
   "cell_type": "code",
   "execution_count": null,
   "metadata": {},
   "outputs": [],
   "source": []
  },
  {
   "cell_type": "code",
   "execution_count": null,
   "metadata": {},
   "outputs": [],
   "source": []
  }
 ],
 "metadata": {
  "kernelspec": {
   "display_name": "Python 3",
   "language": "python",
   "name": "python3"
  },
  "language_info": {
   "codemirror_mode": {
    "name": "ipython",
    "version": 3
   },
   "file_extension": ".py",
   "mimetype": "text/x-python",
   "name": "python",
   "nbconvert_exporter": "python",
   "pygments_lexer": "ipython3",
   "version": "3.10.16"
  },
  "toc": {
   "base_numbering": 1,
   "nav_menu": {},
   "number_sections": true,
   "sideBar": true,
   "skip_h1_title": false,
   "title_cell": "Table of Contents",
   "title_sidebar": "Contents",
   "toc_cell": false,
   "toc_position": {},
   "toc_section_display": true,
   "toc_window_display": false
  }
 },
 "nbformat": 4,
 "nbformat_minor": 2
}
